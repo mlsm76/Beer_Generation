{
 "cells": [
  {
   "cell_type": "markdown",
   "metadata": {},
   "source": [
    "## Preprocessing"
   ]
  },
  {
   "cell_type": "code",
   "execution_count": 67,
   "metadata": {},
   "outputs": [],
   "source": [
    "#Data handling\n",
    "import pandas as pd\n",
    "import numpy as np\n",
    "from sklearn.preprocessing import MinMaxScaler\n",
    "\n",
    "# Clustering\n",
    "from sklearn.cluster import KMeans, DBSCAN\n",
    "from sklearn import preprocessing\n",
    "from sklearn.metrics import silhouette_score\n",
    "\n",
    "# Dimensionality reduction\n",
    "from sklearn.manifold import TSNE\n",
    "from sklearn.decomposition import PCA\n",
    "\n",
    "# Visualization\n",
    "import seaborn as sns\n",
    "import plotly.express as px\n",
    "import matplotlib.pyplot as plt\n",
    "import mpl_toolkits.mplot3d.axes3d as p3\n",
    "from matplotlib import animation\n",
    "%matplotlib inline\n"
   ]
  },
  {
   "cell_type": "code",
   "execution_count": 66,
   "metadata": {},
   "outputs": [
    {
     "ename": "ValueError",
     "evalue": "too many values to unpack (expected 2)",
     "output_type": "error",
     "traceback": [
      "\u001b[1;31m---------------------------------------------------------------------------\u001b[0m",
      "\u001b[1;31mValueError\u001b[0m                                Traceback (most recent call last)",
      "\u001b[1;32m<ipython-input-66-5d00b11841d3>\u001b[0m in \u001b[0;36m<module>\u001b[1;34m\u001b[0m\n\u001b[0;32m      2\u001b[0m \u001b[0madjuncts\u001b[0m \u001b[1;33m=\u001b[0m \u001b[1;33m[\u001b[0m\u001b[1;34m'Adjunct1Amount'\u001b[0m\u001b[1;33m,\u001b[0m\u001b[1;34m'Adjunct2Amount'\u001b[0m\u001b[1;33m,\u001b[0m\u001b[1;34m'Adjunct3Amount'\u001b[0m\u001b[1;33m,\u001b[0m\u001b[1;34m'Adjunct4Amount'\u001b[0m\u001b[1;33m,\u001b[0m\u001b[1;34m'Adjunct5Amount'\u001b[0m\u001b[1;33m]\u001b[0m\u001b[1;33m\u001b[0m\u001b[1;33m\u001b[0m\u001b[0m\n\u001b[0;32m      3\u001b[0m \u001b[1;32mfor\u001b[0m \u001b[0madj\u001b[0m \u001b[1;32min\u001b[0m \u001b[0madjuncts\u001b[0m\u001b[1;33m:\u001b[0m\u001b[1;33m\u001b[0m\u001b[1;33m\u001b[0m\u001b[0m\n\u001b[1;32m----> 4\u001b[1;33m     \u001b[0mbeer_df\u001b[0m\u001b[1;33m[\u001b[0m\u001b[1;34m'Adjunct'\u001b[0m\u001b[1;33m+\u001b[0m\u001b[1;34m'Num'\u001b[0m\u001b[1;33m]\u001b[0m\u001b[1;33m,\u001b[0m\u001b[0mbeer_df\u001b[0m\u001b[1;33m[\u001b[0m\u001b[1;34m'Adjunct'\u001b[0m\u001b[1;33m+\u001b[0m\u001b[1;34m'Unit'\u001b[0m\u001b[1;33m]\u001b[0m \u001b[1;33m=\u001b[0m\u001b[0mbeer_df\u001b[0m\u001b[1;33m[\u001b[0m\u001b[0madj\u001b[0m\u001b[1;33m]\u001b[0m\u001b[1;33m.\u001b[0m\u001b[0mstr\u001b[0m\u001b[1;33m.\u001b[0m\u001b[0mpartition\u001b[0m\u001b[1;33m(\u001b[0m\u001b[1;34m' '\u001b[0m\u001b[1;33m)\u001b[0m\u001b[1;33m\u001b[0m\u001b[1;33m\u001b[0m\u001b[0m\n\u001b[0m\u001b[0;32m      5\u001b[0m \u001b[1;33m\u001b[0m\u001b[0m\n\u001b[0;32m      6\u001b[0m \u001b[0mbeer_df\u001b[0m\u001b[1;33m.\u001b[0m\u001b[0mhead\u001b[0m\u001b[1;33m(\u001b[0m\u001b[1;36m40\u001b[0m\u001b[1;33m)\u001b[0m\u001b[1;33m\u001b[0m\u001b[1;33m\u001b[0m\u001b[0m\n",
      "\u001b[1;31mValueError\u001b[0m: too many values to unpack (expected 2)"
     ]
    }
   ],
   "source": [
    "beer_df= pd.read_csv('beer_data_cleaned8-3_with_nums.csv')\n",
    "adjuncts = ['Adjunct1Amount','Adjunct2Amount','Adjunct3Amount','Adjunct4Amount','Adjunct5Amount']\n",
    "for adj in adjuncts:\n",
    "    beer_df['Adjunct'+'Num'],beer_df['Adjunct'+'Unit'] = beer_df[adj].str.partition(' ')\n",
    "\n",
    "beer_df.head(40)"
   ]
  },
  {
   "cell_type": "code",
   "execution_count": 105,
   "metadata": {},
   "outputs": [
    {
     "name": "stderr",
     "output_type": "stream",
     "text": [
      "C:\\Users\\mitch\\AppData\\Roaming\\Python\\Python37\\site-packages\\IPython\\core\\interactiveshell.py:3072: DtypeWarning: Columns (27,28,37,42,46,47,49,53,54,55,57,61,62,63,65,72,75,76,77,78,87,88,89,90,91) have mixed types.Specify dtype option on import or set low_memory=False.\n",
      "  interactivity=interactivity, compiler=compiler, result=result)\n",
      "C:\\Users\\mitch\\AppData\\Roaming\\Python\\Python37\\site-packages\\ipykernel_launcher.py:5: FutureWarning: Columnar iteration over characters will be deprecated in future releases.\n",
      "  \"\"\"\n",
      "C:\\Users\\mitch\\AppData\\Roaming\\Python\\Python37\\site-packages\\ipykernel_launcher.py:6: FutureWarning: Columnar iteration over characters will be deprecated in future releases.\n",
      "  \n",
      "C:\\Users\\mitch\\AppData\\Roaming\\Python\\Python37\\site-packages\\ipykernel_launcher.py:7: FutureWarning: Columnar iteration over characters will be deprecated in future releases.\n",
      "  import sys\n",
      "C:\\Users\\mitch\\AppData\\Roaming\\Python\\Python37\\site-packages\\ipykernel_launcher.py:8: FutureWarning: Columnar iteration over characters will be deprecated in future releases.\n",
      "  \n",
      "C:\\Users\\mitch\\AppData\\Roaming\\Python\\Python37\\site-packages\\ipykernel_launcher.py:9: FutureWarning: Columnar iteration over characters will be deprecated in future releases.\n",
      "  if __name__ == '__main__':\n"
     ]
    }
   ],
   "source": [
    "#this section splits the unit from the amount into seperate columns for our adjuncts\n",
    "#it then converts them to real numbers instead of strings for conversion\n",
    "pd.set_option('display.max_columns', 500)\n",
    "beer_df= pd.read_csv('beer_data_cleaned8-3_with_nums.csv')\n",
    "beer_df['Adjunct1Num'],beer_df['Adjunct1Unit'] = beer_df['Adjunct1Amount'].str.split().str\n",
    "beer_df['Adjunct2Num'],beer_df['Adjunct2Unit'] = beer_df['Adjunct2Amount'].str.split().str\n",
    "beer_df['Adjunct3Num'],beer_df['Adjunct3Unit'] = beer_df['Adjunct3Amount'].str.split().str\n",
    "beer_df['Adjunct4Num'],beer_df['Adjunct4Unit'] = beer_df['Adjunct4Amount'].str.split().str\n",
    "beer_df['Adjunct5Num'],beer_df['Adjunct5Unit'] = beer_df['Adjunct5Amount'].str.split().str\n",
    "beer_df.head(40)\n",
    "beer_df.to_csv('nums.csv')\n"
   ]
  },
  {
   "cell_type": "code",
   "execution_count": 106,
   "metadata": {},
   "outputs": [
    {
     "data": {
      "text/plain": [
       "Batch_Style                  object\n",
       "Category                     object\n",
       "Batch_size_liters           float64\n",
       "og                          float64\n",
       "fg                          float64\n",
       "abv                         float64\n",
       "ibu                         float64\n",
       "color_levibonds             float64\n",
       "mashph                      float64\n",
       "Base Malt Amount            float64\n",
       "Base Malt                    object\n",
       "BasePPG                     float64\n",
       "BaseColor                   float64\n",
       "BasePercentage              float64\n",
       "SpecialtyMalt1Amount        float64\n",
       "SpecialtyMalt1Name           object\n",
       "SpecialtyMalt1PPG           float64\n",
       "SpecialtyMalt1Color         float64\n",
       "SpecialtyMalt1Percentage    float64\n",
       "SpecialtyMalt2Amount         object\n",
       "SpecialtyMalt2Name           object\n",
       "SpecialtyMalt2PPG           float64\n",
       "SpecialtyMalt2Color         float64\n",
       "SpecialtyMalt2Percentage    float64\n",
       "SpecialtyMalt3Amount        float64\n",
       "SpecialtyMalt3Name           object\n",
       "SpecialtyMalt3PPG            object\n",
       "SpecialtyMalt3Color          object\n",
       "SpecialtyMalt3Percentage     object\n",
       "hop1amount                  float64\n",
       "hop1name                     object\n",
       "hop1type                     object\n",
       "hop1alpha                   float64\n",
       "hop1timing                   object\n",
       "hop1time                    float64\n",
       "hop1ibu                     float64\n",
       "hop1percent                 float64\n",
       "hop2amount                   object\n",
       "hop2name                     object\n",
       "hop2type                     object\n",
       "hop2alpha                   float64\n",
       "hop2timing                   object\n",
       "hop2time                     object\n",
       "hop2ibu                     float64\n",
       "hop2percent                 float64\n",
       "hop3amount                   object\n",
       "hop3name                     object\n",
       "hop3type                     object\n",
       "hop3alpha                   float64\n",
       "hop3timing                   object\n",
       "hop3time                    float64\n",
       "hop3ibu                     float64\n",
       "hop3percent                 float64\n",
       "hop4amount                   object\n",
       "hop4name                     object\n",
       "hop4type                     object\n",
       "hop4alpha                   float64\n",
       "hop4timing                   object\n",
       "hop4time                    float64\n",
       "hop4ibu                     float64\n",
       "hop4percent                 float64\n",
       "hop5amount                   object\n",
       "hop5name                     object\n",
       "hop5type                     object\n",
       "hop5alpha                   float64\n",
       "hop5timing                   object\n",
       "hop5time                    float64\n",
       "hop5ibu                     float64\n",
       "hop5percent                 float64\n",
       "YeastStrain                  object\n",
       "Attenuation                 float64\n",
       "Flocculation                 object\n",
       "LowTemp                      object\n",
       "HighTemp                      int64\n",
       "Starter?                     object\n",
       "Adjunct1Amount               object\n",
       "Adjunct1Name                 object\n",
       "Adjunct1Type                 object\n",
       "Adjunct1Timing               object\n",
       "Adjunct2Amount               object\n",
       "Adjunct2Name                 object\n",
       "Adjunct2Type                 object\n",
       "Adjunct2Timing               object\n",
       "Adjunct3Amount               object\n",
       "Adjunct3Name                 object\n",
       "Adjunct3Type                 object\n",
       "Adjunct3Timing               object\n",
       "Adjunct4Amount               object\n",
       "Adjunct4Name                 object\n",
       "Adjunct4Type                 object\n",
       "Adjunct4Timing               object\n",
       "Adjunct5Amount               object\n",
       "Adjunct5Name                 object\n",
       "Adjunct5Type                 object\n",
       "Adjunct5Timing               object\n",
       "Adjunct1Num                 float64\n",
       "Adjunct1Unit                 object\n",
       "Adjunct2Num                 float64\n",
       "Adjunct2Unit                 object\n",
       "Adjunct3Num                 float64\n",
       "Adjunct3Unit                 object\n",
       "Adjunct4Num                 float64\n",
       "Adjunct4Unit                 object\n",
       "Adjunct5Num                 float64\n",
       "Adjunct5Unit                 object\n",
       "dtype: object"
      ]
     },
     "execution_count": 106,
     "metadata": {},
     "output_type": "execute_result"
    }
   ],
   "source": [
    "pd.set_option('display.max_rows', 500)\n",
    "beer_df.dtypes\n",
    "objects = ['hop5percent','Adjunct1Num','Adjunct2Num','Adjunct3Num','Adjunct4Num','Adjunct5Num']\n",
    "def nums():\n",
    "    for i in objects:\n",
    "        beer_df[i] = beer_df[i].astype(float).round(2)\n",
    "    return beer_df\n",
    "nums()\n",
    "beer_df.dtypes"
   ]
  },
  {
   "cell_type": "code",
   "execution_count": 107,
   "metadata": {},
   "outputs": [
    {
     "data": {
      "text/plain": [
       "Imperial    59081\n",
       "Metric      37621\n",
       "Name: Flag, dtype: int64"
      ]
     },
     "execution_count": 107,
     "metadata": {},
     "output_type": "execute_result"
    },
    {
     "data": {
      "image/png": "[encoded data removed]",
      "text/plain": [
       "<Figure size 432x288 with 1 Axes>"
      ]
     },
     "metadata": {
      "needs_background": "light"
     },
     "output_type": "display_data"
    }
   ],
   "source": [
    "#this section finds a line to divide the dataset into imperial vs metric\n",
    "beer_df['HighTemp'].hist(bins=50)\n",
    "plt.axvline(47) #assign cutoff and create new variable to distinguish\n",
    "beer_df.loc[beer_df['HighTemp'] <=47, 'Flag'] = 'Metric'\n",
    "beer_df.loc[beer_df['HighTemp'] >47, 'Flag'] = 'Imperial'\n",
    "beer_df['Flag'].value_counts()"
   ]
  },
  {
   "cell_type": "code",
   "execution_count": 108,
   "metadata": {},
   "outputs": [],
   "source": [
    "import pandas as pd\n",
    "import numpy as np\n",
    "from sklearn.pipeline import Pipeline\n",
    "from sklearn.preprocessing import StandardScaler\n",
    "from sklearn.impute import SimpleImputer\n",
    "from sklearn.preprocessing import OneHotEncoder\n",
    "from sklearn.compose import ColumnTransformer"
   ]
  },
  {
   "cell_type": "code",
   "execution_count": 127,
   "metadata": {},
   "outputs": [
    {
     "name": "stdout",
     "output_type": "stream",
     "text": [
      "dict_keys(['L', 'each', 'g', 'g/gal', 'g/l', 'gal', 'kg', 'lb', 'ml', 'ml/gal', 'ml/l', 'oz', 'qt', 'tbsp', 'tsp']) dict_keys([0.0, 0.01, 0.02, 0.03, 0.04, 0.05, 0.06, 0.07, 0.08, 0.1, 0.12, 0.13, 0.14, 0.15, 0.16, 0.17, 0.18, 0.2, 0.22, 0.23, 0.24, 0.25, 0.28, 0.29, 0.3, 0.31, 0.32, 0.33, 0.34, 0.35, 0.36, 0.38, 0.39, 0.4, 0.42, 0.43, 0.44, 0.45, 0.46, 0.48, 0.49, 0.5, 0.51, 0.53, 0.55, 0.56, 0.57, 0.58, 0.59, 0.6, 0.62, 0.63, 0.64, 0.65, 0.66, 0.67, 0.69, 0.7, 0.71, 0.74, 0.75, 0.77, 0.8, 0.83, 0.85, 0.87, 0.88, 0.89, 0.9, 0.91, 0.92, 0.95, 0.98, 0.99, 1.0, 1.01, 1.02, 1.04, 1.05, 1.06, 1.08, 1.09, 1.1, 1.11, 1.13, 1.15, 1.17, 1.18, 1.19, 1.2, 1.21, 1.22, 1.24, 1.25, 1.26, 1.27, 1.3, 1.31, 1.33, 1.35, 1.36, 1.38, 1.39, 1.4, 1.42, 1.43, 1.44, 1.45, 1.46, 1.48, 1.49, 1.5, 1.55, 1.57, 1.59, 1.6, 1.64, 1.65, 1.67, 1.7, 1.75, 1.8, 1.85, 1.86, 1.9, 1.91, 1.92, 1.93, 1.97, 1.99, 2.0, 2.04, 2.05, 2.06, 2.07, 2.08, 2.09, 2.1, 2.17, 2.18, 2.2, 2.21, 2.24, 2.25, 2.26, 2.28, 2.29, 2.3, 2.31, 2.32, 2.33, 2.35, 2.38, 2.4, 2.42, 2.43, 2.47, 2.48, 2.49, 2.5, 2.55, 2.56, 2.6, 2.61, 2.64, 2.65, 2.67, 2.68, 2.7, 2.71, 2.72, 2.73, 2.74, 2.75, 2.77, 2.8, 2.83, 2.85, 2.9, 2.91, 2.93, 2.95, 2.97, 3.0, 3.02, 3.06, 3.08, 3.1, 3.12, 3.15, 3.16, 3.2, 3.25, 3.27, 3.29, 3.3, 3.31, 3.4, 3.45, 3.47, 3.49, 3.5, 3.53, 3.54, 3.6, 3.61, 3.64, 3.67, 3.7, 3.72, 3.75, 3.76, 3.8, 3.82, 3.9, 3.91, 3.93, 4.0, 4.05, 4.06, 4.1, 4.12, 4.15, 4.19, 4.2, 4.23, 4.24, 4.25, 4.27, 4.3, 4.31, 4.34, 4.4, 4.41, 4.44, 4.5, 4.51, 4.56, 4.59, 4.6, 4.63, 4.7, 4.71, 4.74, 4.75, 4.77, 4.8, 4.87, 4.9, 4.93, 4.94, 4.98, 5.0, 5.05, 5.06, 5.08, 5.1, 5.12, 5.14, 5.2, 5.25, 5.27, 5.28, 5.3, 5.4, 5.45, 5.47, 5.5, 5.53, 5.58, 5.59, 5.6, 5.61, 5.7, 5.78, 5.79, 5.8, 5.83, 5.86, 5.9, 6.0, 6.05, 6.06, 6.07, 6.16, 6.2, 6.25, 6.29, 6.3, 6.36, 6.4, 6.47, 6.5, 6.6, 6.67, 6.7, 6.75, 6.77, 6.8, 6.81, 6.84, 6.9, 7.0, 7.02, 7.1, 7.2, 7.25, 7.27, 7.33, 7.41, 7.43, 7.5, 7.6, 7.61, 7.64, 7.65, 7.69, 7.7, 7.8, 7.81, 7.84, 7.88, 7.91, 8.0, 8.03, 8.12, 8.15, 8.19, 8.2, 8.22, 8.25, 8.3, 8.42, 8.5, 8.6, 8.67, 8.7, 8.8, 8.83, 8.84, 8.88, 9.0, 9.2, 9.21, 9.26, 9.27, 9.4, 9.5, 9.52, 9.62, 9.7, 9.75, 9.8, 9.9, 10.0, 10.2, 10.35, 10.39, 10.4, 10.43, 10.5, 10.71, 10.82, 11.0, 11.2, 11.3, 11.4, 11.48, 11.5, 11.51, 11.6, 11.76, 11.93, 12.0, 12.04, 12.2, 12.5, 13.0, 13.04, 13.15, 13.16, 13.3, 13.39, 13.57, 13.6, 13.7, 13.86, 14.0, 14.05, 14.17, 14.18, 14.2, 14.25, 14.4, 14.5, 14.6, 14.65, 15.0, 15.28, 15.74, 15.75, 15.9, 16.0, 16.05, 16.5, 16.58, 16.67, 16.75, 16.8, 16.85, 17.0, 17.15, 17.47, 17.5, 17.52, 18.0, 18.11, 18.33, 18.94, 19.0, 19.7, 19.9, 20.0, 20.63, 21.0, 21.5, 21.74, 21.94, 22.0, 22.12, 22.3, 22.5, 22.54, 22.91, 23.0, 23.33, 23.64, 24.0, 25.0, 26.0, 27.0, 28.0, 28.5, 30.0, 30.55, 32.0, 32.5, 32.61, 33.0, 34.0, 34.5, 35.0, 36.0, 36.71, 37.0, 38.0, 40.0, 40.38, 41.0, 42.14, 45.0, 48.0, 49.6, 50.0, 51.89, 53.0, 53.4, 54.8, 55.0, 55.15, 56.0, 56.7, 58.76, 60.0, 60.23, 64.0, 65.0, 66.0, 66.9, 69.2, 70.0, 72.0, 75.0, 79.35, 80.0, 85.0, 89.42, 90.0, 96.15, 99.0, 99.8, 100.0, 105.0, 110.0, 112.0, 120.0, 124.0, 125.0, 130.0, 144.0, 149.8, 150.0, 155.0, 160.0, 165.0, 168.0, 170.0, 180.0, 183.21, 185.29, 190.0, 194.0, 195.0, 200.0, 220.0, 230.0, 235.0, 250.0, 255.0, 260.0, 285.0, 300.0, 329.0, 350.0, 360.0, 380.0, 400.0, 450.0, 454.0, 469.7, 484.0, 500.0, 522.96, 550.0, 570.0, 589.0, 600.0, 650.0, 700.0, 750.0, 800.0, 850.0, 958.83, 960.0])\n"
     ]
    }
   ],
   "source": [
    "ad1unit = beer_df.groupby('Adjunct1Unit').apply(lambda f: f['Adjunct1Unit'].values.tolist()).to_dict()\n",
    "ad2unit = beer_df.groupby('Adjunct2Unit').apply(lambda f: f['Adjunct2Unit'].values.tolist()).to_dict()\n",
    "ad3unit = beer_df.groupby('Adjunct3Unit').apply(lambda f: f['Adjunct3Unit'].values.tolist()).to_dict()\n",
    "ad4unit = beer_df.groupby('Adjunct4Unit').apply(lambda f: f['Adjunct4Unit'].values.tolist()).to_dict()\n",
    "ad5unit = beer_df.groupby('Adjunct5Unit').apply(lambda f: f['Adjunct5Unit'].values.tolist()).to_dict()\n",
    "ad1num = beer_df.groupby('Adjunct1Num').apply(lambda f: f['Adjunct1Num'].values.tolist()).to_dict()\n",
    "ad2num = beer_df.groupby('Adjunct2Num').apply(lambda f: f['Adjunct2Num'].values.tolist()).to_dict()\n",
    "ad3num = beer_df.groupby('Adjunct3Num').apply(lambda f: f['Adjunct3Num'].values.tolist()).to_dict()\n",
    "ad4num = beer_df.groupby('Adjunct4Num').apply(lambda f: f['Adjunct4Num'].values.tolist()).to_dict()\n",
    "ad5num = beer_df.groupby('Adjunct5Num').apply(lambda f: f['Adjunct5Num'].values.tolist()).to_dict()\n",
    "print(ad1unit.keys(),\n",
    "     ad1num.keys()) #prints keys"
   ]
  },
  {
   "cell_type": "code",
   "execution_count": 148,
   "metadata": {},
   "outputs": [
    {
     "data": {
      "text/plain": [
       "{nan: ' ',\n",
       " 'g': 0.035724,\n",
       " 'ml': 0.033814,\n",
       " 'tsp': 0.0,\n",
       " 'each': 0.0,\n",
       " 'g/l': 0.0,\n",
       " 'lb': 0.0,\n",
       " 'oz': 0.0,\n",
       " 'tbsp': 0.0,\n",
       " 'g/gal': 0.033814,\n",
       " 'ml/gal': 0.0,\n",
       " 'days': 2.2,\n",
       " 'kg': 0.0,\n",
       " 'min.': 0.219969,\n",
       " 'L': 0.0,\n",
       " 'qt': 0.033814,\n",
       " 'ml/l': 0.0,\n",
       " 'mg/l': 0.033814,\n",
       " 'hr.': 0.0,\n",
       " 'gal': 0.0}"
      ]
     },
     "execution_count": 148,
     "metadata": {},
     "output_type": "execute_result"
    }
   ],
   "source": [
    "adj_cols = ['Adjunct1Unit','Adjunct2Unit','Adjunct3Unit','Adjunct4Unit','Adjunct5Unit']\n",
    "column_values = beer_df[adj_cols].values.ravel()\n",
    "unique_values = pd.unique(column_values)\n",
    "unique_values\n",
    "convert_keys = [' ',.035724, .033814, 0.00,0.00,0.00,0.00,0.00,0.00,.033814,0.00,2.2,0.00,.219969,0.00,.033814,0.00,.033814,0.00,0.00]\n",
    "\n",
    "adjdict = dict(zip(unique_values, convert_keys))\n",
    "adjdict"
   ]
  },
  {
   "cell_type": "code",
   "execution_count": null,
   "metadata": {},
   "outputs": [],
   "source": []
  },
  {
   "cell_type": "code",
   "execution_count": 6,
   "metadata": {},
   "outputs": [],
   "source": [
    "#columns to be converted\n",
    "kg_cols = ['Base Malt Amount','SpecialtyMalt1Amount','SpecialtyMalt2Amount','SpecialtyMalt1Amount']\n",
    "gram_cols = ['hop1amount','hop2amount','hop3amount','hop4amount','hop5amount']\n",
    "celcius_cols= ['LowTemp','HighTemp']\n",
    "adj_cols = ['Adjunct1Num','Adjunct2Num','Adjunct3Num','Adjunct4Num','Adjunct5Num']\n",
    "def convert():\n",
    "    for row in beer_df:\n",
    "        if (beer_df['Flag'].equals(\"Metric\")):\n",
    "            kg_cols*2.2 #kg to lbs\n",
    "            gram_cols *.035274 #grams to ounces\n",
    "            celcius_cols*(9/5)+32 #celcius to fahrenheit\n",
    "        return row\n",
    "convert = ['Adjunct1Num','Adjunct2Num','Adjunct3Num','Adjunct4Num','Adjunct5Num']\n",
    "\n",
    "for i in convert:\n",
    "    if  \n",
    "def conversion(row):\n",
    "    if (beer_df['Flag'].equals(\"Metric\")):\n",
    "        kg_cols*2.2 #kg to lbs\n",
    "        gram_cols *.035274 #grams to ounces\n",
    "        celcius_cols*(9/5)+32 #celcius to fahrenheit\n",
    "    elif beer_df['Adjunct1Unit'].equals('g'):\n",
    "        beer_df['Adjunct1Num']*.035724 #to ounces\n",
    "    elif beer_df['Adjunct1Unit'].equals('ml/gal' or 'ml/l' or 'ml'):\n",
    "        beer_df['Adjunct1Num']*.033814 #to fl_oz\n",
    "    elif beer_df['Adjunct1Unit'].equals('kg'):\n",
    "        beer_df['Adjunct1Num']*2.2 #to lbs\n",
    "    elif beer_df['Adjunct1Unit'].equals('L'):\n",
    "        beer_df['Adjunct1Num']*.219969 #to gallons\n",
    "    elif beer_df['Adjunct2Unit'].equals('g'):\n",
    "        beer_df['Adjunct2Num']*.035724 #to ounces\n",
    "    elif beer_df['Adjunct2Unit'].equals('ml/gal' or 'ml/l' or 'ml'):\n",
    "        beer_df['Adjunct2Num']*.033814 #to fl_oz\n",
    "    elif beer_df['Adjunct2Unit'].equals('kg'):\n",
    "        beer_df['Adjunct2Num']*2.2 #to lbs\n",
    "    elif beer_df['Adjunct2Unit'].equals('L'):\n",
    "        beer_df['Adjunct2Num']*.219969 #to gallons\n",
    "    elif beer_df['Adjunct3Unit'].equals('g'):\n",
    "        beer_df['Adjunct3Num']*.035724 #to ounces\n",
    "    elif beer_df['Adjunct3Unit'].equals('ml/gal' or 'ml/l' or 'ml'):\n",
    "        beer_df['Adjunct3Num']*.033814 #to fl_oz\n",
    "    elif beer_df['Adjunct3Unit'].equals('kg'):\n",
    "        beer_df['Adjunct3Num']*2.2 #to lbs\n",
    "    elif beer_df['Adjunct3Unit'].equals('L'):\n",
    "        beer_df['Adjunct3Num']*.219969 #to gallons\n",
    "    elif beer_df['Adjunct4Unit'].equals('g'):\n",
    "        beer_df['Adjunct4Num']*.035724 #to ounces\n",
    "    elif beer_df['Adjunct4Unit'].equals('ml/gal' or 'ml/l' or 'ml'):\n",
    "        beer_df['Adjunct4Num']*.033814 #to fl_oz\n",
    "    elif beer_df['Adjunct4Unit'].equals('kg'):\n",
    "        beer_df['Adjunct4Num']*2.2 #to lbs\n",
    "    elif beer_df['Adjunct4Unit'].equals('L'):\n",
    "        beer_df['Adjunct4Num']*.219969 #to gallons\n",
    "    elif beer_df['Adjunct5Unit'].equals('g'):\n",
    "        beer_df['Adjunct5Num']*.035724 #to ounces\n",
    "    elif beer_df['Adjunct5Unit'].equals('ml/gal' or 'ml/l' or 'ml'):\n",
    "        beer_df['Adjunct5Num']*.033814 #to fl_oz\n",
    "    elif beer_df['Adjunct5Unit'].equals('kg'):\n",
    "        beer_df['Adjunct5Num']*2.2 #to lbs\n",
    "    elif beer_df['Adjunct5Unit'].equals('L'):\n",
    "        beer_df['Adjunct5Num']*.219969 #to gallons\n",
    "    return(row)\n",
    "\n",
    "beer_df.apply(conversion,axis=1)\n",
    "        \n",
    "        "
   ]
  },
  {
   "cell_type": "code",
   "execution_count": 8,
   "metadata": {},
   "outputs": [
    {
     "ename": "AttributeError",
     "evalue": "'DataFrame' object has no attribute 'dtype'",
     "output_type": "error",
     "traceback": [
      "\u001b[1;31m---------------------------------------------------------------------------\u001b[0m",
      "\u001b[1;31mValueError\u001b[0m                                Traceback (most recent call last)",
      "\u001b[1;32m~\\Anaconda3\\lib\\site-packages\\sklearn\\impute\\_base.py\u001b[0m in \u001b[0;36m_validate_input\u001b[1;34m(self, X)\u001b[0m\n\u001b[0;32m    198\u001b[0m             X = check_array(X, accept_sparse='csc', dtype=dtype,\n\u001b[1;32m--> 199\u001b[1;33m                             force_all_finite=force_all_finite, copy=self.copy)\n\u001b[0m\u001b[0;32m    200\u001b[0m         \u001b[1;32mexcept\u001b[0m \u001b[0mValueError\u001b[0m \u001b[1;32mas\u001b[0m \u001b[0mve\u001b[0m\u001b[1;33m:\u001b[0m\u001b[1;33m\u001b[0m\u001b[1;33m\u001b[0m\u001b[0m\n",
      "\u001b[1;32m~\\Anaconda3\\lib\\site-packages\\sklearn\\utils\\validation.py\u001b[0m in \u001b[0;36mcheck_array\u001b[1;34m(array, accept_sparse, accept_large_sparse, dtype, order, copy, force_all_finite, ensure_2d, allow_nd, ensure_min_samples, ensure_min_features, warn_on_dtype, estimator)\u001b[0m\n\u001b[0;32m    495\u001b[0m                 \u001b[0mwarnings\u001b[0m\u001b[1;33m.\u001b[0m\u001b[0msimplefilter\u001b[0m\u001b[1;33m(\u001b[0m\u001b[1;34m'error'\u001b[0m\u001b[1;33m,\u001b[0m \u001b[0mComplexWarning\u001b[0m\u001b[1;33m)\u001b[0m\u001b[1;33m\u001b[0m\u001b[1;33m\u001b[0m\u001b[0m\n\u001b[1;32m--> 496\u001b[1;33m                 \u001b[0marray\u001b[0m \u001b[1;33m=\u001b[0m \u001b[0mnp\u001b[0m\u001b[1;33m.\u001b[0m\u001b[0masarray\u001b[0m\u001b[1;33m(\u001b[0m\u001b[0marray\u001b[0m\u001b[1;33m,\u001b[0m \u001b[0mdtype\u001b[0m\u001b[1;33m=\u001b[0m\u001b[0mdtype\u001b[0m\u001b[1;33m,\u001b[0m \u001b[0morder\u001b[0m\u001b[1;33m=\u001b[0m\u001b[0morder\u001b[0m\u001b[1;33m)\u001b[0m\u001b[1;33m\u001b[0m\u001b[1;33m\u001b[0m\u001b[0m\n\u001b[0m\u001b[0;32m    497\u001b[0m             \u001b[1;32mexcept\u001b[0m \u001b[0mComplexWarning\u001b[0m\u001b[1;33m:\u001b[0m\u001b[1;33m\u001b[0m\u001b[1;33m\u001b[0m\u001b[0m\n",
      "\u001b[1;32m~\\Anaconda3\\lib\\site-packages\\numpy\\core\\_asarray.py\u001b[0m in \u001b[0;36masarray\u001b[1;34m(a, dtype, order)\u001b[0m\n\u001b[0;32m     84\u001b[0m     \"\"\"\n\u001b[1;32m---> 85\u001b[1;33m     \u001b[1;32mreturn\u001b[0m \u001b[0marray\u001b[0m\u001b[1;33m(\u001b[0m\u001b[0ma\u001b[0m\u001b[1;33m,\u001b[0m \u001b[0mdtype\u001b[0m\u001b[1;33m,\u001b[0m \u001b[0mcopy\u001b[0m\u001b[1;33m=\u001b[0m\u001b[1;32mFalse\u001b[0m\u001b[1;33m,\u001b[0m \u001b[0morder\u001b[0m\u001b[1;33m=\u001b[0m\u001b[0morder\u001b[0m\u001b[1;33m)\u001b[0m\u001b[1;33m\u001b[0m\u001b[1;33m\u001b[0m\u001b[0m\n\u001b[0m\u001b[0;32m     86\u001b[0m \u001b[1;33m\u001b[0m\u001b[0m\n",
      "\u001b[1;31mValueError\u001b[0m: could not convert string to float: ",
      "\nDuring handling of the above exception, another exception occurred:\n",
      "\u001b[1;31mAttributeError\u001b[0m                            Traceback (most recent call last)",
      "\u001b[1;32m<ipython-input-8-eaec797654e0>\u001b[0m in \u001b[0;36m<module>\u001b[1;34m\u001b[0m\n\u001b[0;32m     18\u001b[0m     ])\n\u001b[0;32m     19\u001b[0m \u001b[1;33m\u001b[0m\u001b[0m\n\u001b[1;32m---> 20\u001b[1;33m \u001b[0mbeer_prepared\u001b[0m \u001b[1;33m=\u001b[0m \u001b[0mfull_pipeline\u001b[0m\u001b[1;33m.\u001b[0m\u001b[0mfit_transform\u001b[0m\u001b[1;33m(\u001b[0m\u001b[0mbeer_df\u001b[0m\u001b[1;33m)\u001b[0m\u001b[1;33m\u001b[0m\u001b[1;33m\u001b[0m\u001b[0m\n\u001b[0m",
      "\u001b[1;32m~\\Anaconda3\\lib\\site-packages\\sklearn\\compose\\_column_transformer.py\u001b[0m in \u001b[0;36mfit_transform\u001b[1;34m(self, X, y)\u001b[0m\n\u001b[0;32m    466\u001b[0m         \u001b[0mself\u001b[0m\u001b[1;33m.\u001b[0m\u001b[0m_validate_remainder\u001b[0m\u001b[1;33m(\u001b[0m\u001b[0mX\u001b[0m\u001b[1;33m)\u001b[0m\u001b[1;33m\u001b[0m\u001b[1;33m\u001b[0m\u001b[0m\n\u001b[0;32m    467\u001b[0m \u001b[1;33m\u001b[0m\u001b[0m\n\u001b[1;32m--> 468\u001b[1;33m         \u001b[0mresult\u001b[0m \u001b[1;33m=\u001b[0m \u001b[0mself\u001b[0m\u001b[1;33m.\u001b[0m\u001b[0m_fit_transform\u001b[0m\u001b[1;33m(\u001b[0m\u001b[0mX\u001b[0m\u001b[1;33m,\u001b[0m \u001b[0my\u001b[0m\u001b[1;33m,\u001b[0m \u001b[0m_fit_transform_one\u001b[0m\u001b[1;33m)\u001b[0m\u001b[1;33m\u001b[0m\u001b[1;33m\u001b[0m\u001b[0m\n\u001b[0m\u001b[0;32m    469\u001b[0m \u001b[1;33m\u001b[0m\u001b[0m\n\u001b[0;32m    470\u001b[0m         \u001b[1;32mif\u001b[0m \u001b[1;32mnot\u001b[0m \u001b[0mresult\u001b[0m\u001b[1;33m:\u001b[0m\u001b[1;33m\u001b[0m\u001b[1;33m\u001b[0m\u001b[0m\n",
      "\u001b[1;32m~\\Anaconda3\\lib\\site-packages\\sklearn\\compose\\_column_transformer.py\u001b[0m in \u001b[0;36m_fit_transform\u001b[1;34m(self, X, y, func, fitted)\u001b[0m\n\u001b[0;32m    410\u001b[0m                     message=self._log_message(name, idx, len(transformers)))\n\u001b[0;32m    411\u001b[0m                 for idx, (name, trans, column, weight) in enumerate(\n\u001b[1;32m--> 412\u001b[1;33m                         self._iter(fitted=fitted, replace_strings=True), 1))\n\u001b[0m\u001b[0;32m    413\u001b[0m         \u001b[1;32mexcept\u001b[0m \u001b[0mValueError\u001b[0m \u001b[1;32mas\u001b[0m \u001b[0me\u001b[0m\u001b[1;33m:\u001b[0m\u001b[1;33m\u001b[0m\u001b[1;33m\u001b[0m\u001b[0m\n\u001b[0;32m    414\u001b[0m             \u001b[1;32mif\u001b[0m \u001b[1;34m\"Expected 2D array, got 1D array instead\"\u001b[0m \u001b[1;32min\u001b[0m \u001b[0mstr\u001b[0m\u001b[1;33m(\u001b[0m\u001b[0me\u001b[0m\u001b[1;33m)\u001b[0m\u001b[1;33m:\u001b[0m\u001b[1;33m\u001b[0m\u001b[1;33m\u001b[0m\u001b[0m\n",
      "\u001b[1;32m~\\Anaconda3\\lib\\site-packages\\joblib\\parallel.py\u001b[0m in \u001b[0;36m__call__\u001b[1;34m(self, iterable)\u001b[0m\n\u001b[0;32m   1002\u001b[0m             \u001b[1;31m# remaining jobs.\u001b[0m\u001b[1;33m\u001b[0m\u001b[1;33m\u001b[0m\u001b[1;33m\u001b[0m\u001b[0m\n\u001b[0;32m   1003\u001b[0m             \u001b[0mself\u001b[0m\u001b[1;33m.\u001b[0m\u001b[0m_iterating\u001b[0m \u001b[1;33m=\u001b[0m \u001b[1;32mFalse\u001b[0m\u001b[1;33m\u001b[0m\u001b[1;33m\u001b[0m\u001b[0m\n\u001b[1;32m-> 1004\u001b[1;33m             \u001b[1;32mif\u001b[0m \u001b[0mself\u001b[0m\u001b[1;33m.\u001b[0m\u001b[0mdispatch_one_batch\u001b[0m\u001b[1;33m(\u001b[0m\u001b[0miterator\u001b[0m\u001b[1;33m)\u001b[0m\u001b[1;33m:\u001b[0m\u001b[1;33m\u001b[0m\u001b[1;33m\u001b[0m\u001b[0m\n\u001b[0m\u001b[0;32m   1005\u001b[0m                 \u001b[0mself\u001b[0m\u001b[1;33m.\u001b[0m\u001b[0m_iterating\u001b[0m \u001b[1;33m=\u001b[0m \u001b[0mself\u001b[0m\u001b[1;33m.\u001b[0m\u001b[0m_original_iterator\u001b[0m \u001b[1;32mis\u001b[0m \u001b[1;32mnot\u001b[0m \u001b[1;32mNone\u001b[0m\u001b[1;33m\u001b[0m\u001b[1;33m\u001b[0m\u001b[0m\n\u001b[0;32m   1006\u001b[0m \u001b[1;33m\u001b[0m\u001b[0m\n",
      "\u001b[1;32m~\\Anaconda3\\lib\\site-packages\\joblib\\parallel.py\u001b[0m in \u001b[0;36mdispatch_one_batch\u001b[1;34m(self, iterator)\u001b[0m\n\u001b[0;32m    833\u001b[0m                 \u001b[1;32mreturn\u001b[0m \u001b[1;32mFalse\u001b[0m\u001b[1;33m\u001b[0m\u001b[1;33m\u001b[0m\u001b[0m\n\u001b[0;32m    834\u001b[0m             \u001b[1;32melse\u001b[0m\u001b[1;33m:\u001b[0m\u001b[1;33m\u001b[0m\u001b[1;33m\u001b[0m\u001b[0m\n\u001b[1;32m--> 835\u001b[1;33m                 \u001b[0mself\u001b[0m\u001b[1;33m.\u001b[0m\u001b[0m_dispatch\u001b[0m\u001b[1;33m(\u001b[0m\u001b[0mtasks\u001b[0m\u001b[1;33m)\u001b[0m\u001b[1;33m\u001b[0m\u001b[1;33m\u001b[0m\u001b[0m\n\u001b[0m\u001b[0;32m    836\u001b[0m                 \u001b[1;32mreturn\u001b[0m \u001b[1;32mTrue\u001b[0m\u001b[1;33m\u001b[0m\u001b[1;33m\u001b[0m\u001b[0m\n\u001b[0;32m    837\u001b[0m \u001b[1;33m\u001b[0m\u001b[0m\n",
      "\u001b[1;32m~\\Anaconda3\\lib\\site-packages\\joblib\\parallel.py\u001b[0m in \u001b[0;36m_dispatch\u001b[1;34m(self, batch)\u001b[0m\n\u001b[0;32m    752\u001b[0m         \u001b[1;32mwith\u001b[0m \u001b[0mself\u001b[0m\u001b[1;33m.\u001b[0m\u001b[0m_lock\u001b[0m\u001b[1;33m:\u001b[0m\u001b[1;33m\u001b[0m\u001b[1;33m\u001b[0m\u001b[0m\n\u001b[0;32m    753\u001b[0m             \u001b[0mjob_idx\u001b[0m \u001b[1;33m=\u001b[0m \u001b[0mlen\u001b[0m\u001b[1;33m(\u001b[0m\u001b[0mself\u001b[0m\u001b[1;33m.\u001b[0m\u001b[0m_jobs\u001b[0m\u001b[1;33m)\u001b[0m\u001b[1;33m\u001b[0m\u001b[1;33m\u001b[0m\u001b[0m\n\u001b[1;32m--> 754\u001b[1;33m             \u001b[0mjob\u001b[0m \u001b[1;33m=\u001b[0m \u001b[0mself\u001b[0m\u001b[1;33m.\u001b[0m\u001b[0m_backend\u001b[0m\u001b[1;33m.\u001b[0m\u001b[0mapply_async\u001b[0m\u001b[1;33m(\u001b[0m\u001b[0mbatch\u001b[0m\u001b[1;33m,\u001b[0m \u001b[0mcallback\u001b[0m\u001b[1;33m=\u001b[0m\u001b[0mcb\u001b[0m\u001b[1;33m)\u001b[0m\u001b[1;33m\u001b[0m\u001b[1;33m\u001b[0m\u001b[0m\n\u001b[0m\u001b[0;32m    755\u001b[0m             \u001b[1;31m# A job can complete so quickly than its callback is\u001b[0m\u001b[1;33m\u001b[0m\u001b[1;33m\u001b[0m\u001b[1;33m\u001b[0m\u001b[0m\n\u001b[0;32m    756\u001b[0m             \u001b[1;31m# called before we get here, causing self._jobs to\u001b[0m\u001b[1;33m\u001b[0m\u001b[1;33m\u001b[0m\u001b[1;33m\u001b[0m\u001b[0m\n",
      "\u001b[1;32m~\\Anaconda3\\lib\\site-packages\\joblib\\_parallel_backends.py\u001b[0m in \u001b[0;36mapply_async\u001b[1;34m(self, func, callback)\u001b[0m\n\u001b[0;32m    207\u001b[0m     \u001b[1;32mdef\u001b[0m \u001b[0mapply_async\u001b[0m\u001b[1;33m(\u001b[0m\u001b[0mself\u001b[0m\u001b[1;33m,\u001b[0m \u001b[0mfunc\u001b[0m\u001b[1;33m,\u001b[0m \u001b[0mcallback\u001b[0m\u001b[1;33m=\u001b[0m\u001b[1;32mNone\u001b[0m\u001b[1;33m)\u001b[0m\u001b[1;33m:\u001b[0m\u001b[1;33m\u001b[0m\u001b[1;33m\u001b[0m\u001b[0m\n\u001b[0;32m    208\u001b[0m         \u001b[1;34m\"\"\"Schedule a func to be run\"\"\"\u001b[0m\u001b[1;33m\u001b[0m\u001b[1;33m\u001b[0m\u001b[0m\n\u001b[1;32m--> 209\u001b[1;33m         \u001b[0mresult\u001b[0m \u001b[1;33m=\u001b[0m \u001b[0mImmediateResult\u001b[0m\u001b[1;33m(\u001b[0m\u001b[0mfunc\u001b[0m\u001b[1;33m)\u001b[0m\u001b[1;33m\u001b[0m\u001b[1;33m\u001b[0m\u001b[0m\n\u001b[0m\u001b[0;32m    210\u001b[0m         \u001b[1;32mif\u001b[0m \u001b[0mcallback\u001b[0m\u001b[1;33m:\u001b[0m\u001b[1;33m\u001b[0m\u001b[1;33m\u001b[0m\u001b[0m\n\u001b[0;32m    211\u001b[0m             \u001b[0mcallback\u001b[0m\u001b[1;33m(\u001b[0m\u001b[0mresult\u001b[0m\u001b[1;33m)\u001b[0m\u001b[1;33m\u001b[0m\u001b[1;33m\u001b[0m\u001b[0m\n",
      "\u001b[1;32m~\\Anaconda3\\lib\\site-packages\\joblib\\_parallel_backends.py\u001b[0m in \u001b[0;36m__init__\u001b[1;34m(self, batch)\u001b[0m\n\u001b[0;32m    588\u001b[0m         \u001b[1;31m# Don't delay the application, to avoid keeping the input\u001b[0m\u001b[1;33m\u001b[0m\u001b[1;33m\u001b[0m\u001b[1;33m\u001b[0m\u001b[0m\n\u001b[0;32m    589\u001b[0m         \u001b[1;31m# arguments in memory\u001b[0m\u001b[1;33m\u001b[0m\u001b[1;33m\u001b[0m\u001b[1;33m\u001b[0m\u001b[0m\n\u001b[1;32m--> 590\u001b[1;33m         \u001b[0mself\u001b[0m\u001b[1;33m.\u001b[0m\u001b[0mresults\u001b[0m \u001b[1;33m=\u001b[0m \u001b[0mbatch\u001b[0m\u001b[1;33m(\u001b[0m\u001b[1;33m)\u001b[0m\u001b[1;33m\u001b[0m\u001b[1;33m\u001b[0m\u001b[0m\n\u001b[0m\u001b[0;32m    591\u001b[0m \u001b[1;33m\u001b[0m\u001b[0m\n\u001b[0;32m    592\u001b[0m     \u001b[1;32mdef\u001b[0m \u001b[0mget\u001b[0m\u001b[1;33m(\u001b[0m\u001b[0mself\u001b[0m\u001b[1;33m)\u001b[0m\u001b[1;33m:\u001b[0m\u001b[1;33m\u001b[0m\u001b[1;33m\u001b[0m\u001b[0m\n",
      "\u001b[1;32m~\\Anaconda3\\lib\\site-packages\\joblib\\parallel.py\u001b[0m in \u001b[0;36m__call__\u001b[1;34m(self)\u001b[0m\n\u001b[0;32m    254\u001b[0m         \u001b[1;32mwith\u001b[0m \u001b[0mparallel_backend\u001b[0m\u001b[1;33m(\u001b[0m\u001b[0mself\u001b[0m\u001b[1;33m.\u001b[0m\u001b[0m_backend\u001b[0m\u001b[1;33m,\u001b[0m \u001b[0mn_jobs\u001b[0m\u001b[1;33m=\u001b[0m\u001b[0mself\u001b[0m\u001b[1;33m.\u001b[0m\u001b[0m_n_jobs\u001b[0m\u001b[1;33m)\u001b[0m\u001b[1;33m:\u001b[0m\u001b[1;33m\u001b[0m\u001b[1;33m\u001b[0m\u001b[0m\n\u001b[0;32m    255\u001b[0m             return [func(*args, **kwargs)\n\u001b[1;32m--> 256\u001b[1;33m                     for func, args, kwargs in self.items]\n\u001b[0m\u001b[0;32m    257\u001b[0m \u001b[1;33m\u001b[0m\u001b[0m\n\u001b[0;32m    258\u001b[0m     \u001b[1;32mdef\u001b[0m \u001b[0m__len__\u001b[0m\u001b[1;33m(\u001b[0m\u001b[0mself\u001b[0m\u001b[1;33m)\u001b[0m\u001b[1;33m:\u001b[0m\u001b[1;33m\u001b[0m\u001b[1;33m\u001b[0m\u001b[0m\n",
      "\u001b[1;32m~\\Anaconda3\\lib\\site-packages\\joblib\\parallel.py\u001b[0m in \u001b[0;36m<listcomp>\u001b[1;34m(.0)\u001b[0m\n\u001b[0;32m    254\u001b[0m         \u001b[1;32mwith\u001b[0m \u001b[0mparallel_backend\u001b[0m\u001b[1;33m(\u001b[0m\u001b[0mself\u001b[0m\u001b[1;33m.\u001b[0m\u001b[0m_backend\u001b[0m\u001b[1;33m,\u001b[0m \u001b[0mn_jobs\u001b[0m\u001b[1;33m=\u001b[0m\u001b[0mself\u001b[0m\u001b[1;33m.\u001b[0m\u001b[0m_n_jobs\u001b[0m\u001b[1;33m)\u001b[0m\u001b[1;33m:\u001b[0m\u001b[1;33m\u001b[0m\u001b[1;33m\u001b[0m\u001b[0m\n\u001b[0;32m    255\u001b[0m             return [func(*args, **kwargs)\n\u001b[1;32m--> 256\u001b[1;33m                     for func, args, kwargs in self.items]\n\u001b[0m\u001b[0;32m    257\u001b[0m \u001b[1;33m\u001b[0m\u001b[0m\n\u001b[0;32m    258\u001b[0m     \u001b[1;32mdef\u001b[0m \u001b[0m__len__\u001b[0m\u001b[1;33m(\u001b[0m\u001b[0mself\u001b[0m\u001b[1;33m)\u001b[0m\u001b[1;33m:\u001b[0m\u001b[1;33m\u001b[0m\u001b[1;33m\u001b[0m\u001b[0m\n",
      "\u001b[1;32m~\\Anaconda3\\lib\\site-packages\\sklearn\\pipeline.py\u001b[0m in \u001b[0;36m_fit_transform_one\u001b[1;34m(transformer, X, y, weight, message_clsname, message, **fit_params)\u001b[0m\n\u001b[0;32m    714\u001b[0m     \u001b[1;32mwith\u001b[0m \u001b[0m_print_elapsed_time\u001b[0m\u001b[1;33m(\u001b[0m\u001b[0mmessage_clsname\u001b[0m\u001b[1;33m,\u001b[0m \u001b[0mmessage\u001b[0m\u001b[1;33m)\u001b[0m\u001b[1;33m:\u001b[0m\u001b[1;33m\u001b[0m\u001b[1;33m\u001b[0m\u001b[0m\n\u001b[0;32m    715\u001b[0m         \u001b[1;32mif\u001b[0m \u001b[0mhasattr\u001b[0m\u001b[1;33m(\u001b[0m\u001b[0mtransformer\u001b[0m\u001b[1;33m,\u001b[0m \u001b[1;34m'fit_transform'\u001b[0m\u001b[1;33m)\u001b[0m\u001b[1;33m:\u001b[0m\u001b[1;33m\u001b[0m\u001b[1;33m\u001b[0m\u001b[0m\n\u001b[1;32m--> 716\u001b[1;33m             \u001b[0mres\u001b[0m \u001b[1;33m=\u001b[0m \u001b[0mtransformer\u001b[0m\u001b[1;33m.\u001b[0m\u001b[0mfit_transform\u001b[0m\u001b[1;33m(\u001b[0m\u001b[0mX\u001b[0m\u001b[1;33m,\u001b[0m \u001b[0my\u001b[0m\u001b[1;33m,\u001b[0m \u001b[1;33m**\u001b[0m\u001b[0mfit_params\u001b[0m\u001b[1;33m)\u001b[0m\u001b[1;33m\u001b[0m\u001b[1;33m\u001b[0m\u001b[0m\n\u001b[0m\u001b[0;32m    717\u001b[0m         \u001b[1;32melse\u001b[0m\u001b[1;33m:\u001b[0m\u001b[1;33m\u001b[0m\u001b[1;33m\u001b[0m\u001b[0m\n\u001b[0;32m    718\u001b[0m             \u001b[0mres\u001b[0m \u001b[1;33m=\u001b[0m \u001b[0mtransformer\u001b[0m\u001b[1;33m.\u001b[0m\u001b[0mfit\u001b[0m\u001b[1;33m(\u001b[0m\u001b[0mX\u001b[0m\u001b[1;33m,\u001b[0m \u001b[0my\u001b[0m\u001b[1;33m,\u001b[0m \u001b[1;33m**\u001b[0m\u001b[0mfit_params\u001b[0m\u001b[1;33m)\u001b[0m\u001b[1;33m.\u001b[0m\u001b[0mtransform\u001b[0m\u001b[1;33m(\u001b[0m\u001b[0mX\u001b[0m\u001b[1;33m)\u001b[0m\u001b[1;33m\u001b[0m\u001b[1;33m\u001b[0m\u001b[0m\n",
      "\u001b[1;32m~\\Anaconda3\\lib\\site-packages\\sklearn\\pipeline.py\u001b[0m in \u001b[0;36mfit_transform\u001b[1;34m(self, X, y, **fit_params)\u001b[0m\n\u001b[0;32m    385\u001b[0m         \"\"\"\n\u001b[0;32m    386\u001b[0m         \u001b[0mlast_step\u001b[0m \u001b[1;33m=\u001b[0m \u001b[0mself\u001b[0m\u001b[1;33m.\u001b[0m\u001b[0m_final_estimator\u001b[0m\u001b[1;33m\u001b[0m\u001b[1;33m\u001b[0m\u001b[0m\n\u001b[1;32m--> 387\u001b[1;33m         \u001b[0mXt\u001b[0m\u001b[1;33m,\u001b[0m \u001b[0mfit_params\u001b[0m \u001b[1;33m=\u001b[0m \u001b[0mself\u001b[0m\u001b[1;33m.\u001b[0m\u001b[0m_fit\u001b[0m\u001b[1;33m(\u001b[0m\u001b[0mX\u001b[0m\u001b[1;33m,\u001b[0m \u001b[0my\u001b[0m\u001b[1;33m,\u001b[0m \u001b[1;33m**\u001b[0m\u001b[0mfit_params\u001b[0m\u001b[1;33m)\u001b[0m\u001b[1;33m\u001b[0m\u001b[1;33m\u001b[0m\u001b[0m\n\u001b[0m\u001b[0;32m    388\u001b[0m         with _print_elapsed_time('Pipeline',\n\u001b[0;32m    389\u001b[0m                                  self._log_message(len(self.steps) - 1)):\n",
      "\u001b[1;32m~\\Anaconda3\\lib\\site-packages\\sklearn\\pipeline.py\u001b[0m in \u001b[0;36m_fit\u001b[1;34m(self, X, y, **fit_params)\u001b[0m\n\u001b[0;32m    315\u001b[0m                 \u001b[0mmessage_clsname\u001b[0m\u001b[1;33m=\u001b[0m\u001b[1;34m'Pipeline'\u001b[0m\u001b[1;33m,\u001b[0m\u001b[1;33m\u001b[0m\u001b[1;33m\u001b[0m\u001b[0m\n\u001b[0;32m    316\u001b[0m                 \u001b[0mmessage\u001b[0m\u001b[1;33m=\u001b[0m\u001b[0mself\u001b[0m\u001b[1;33m.\u001b[0m\u001b[0m_log_message\u001b[0m\u001b[1;33m(\u001b[0m\u001b[0mstep_idx\u001b[0m\u001b[1;33m)\u001b[0m\u001b[1;33m,\u001b[0m\u001b[1;33m\u001b[0m\u001b[1;33m\u001b[0m\u001b[0m\n\u001b[1;32m--> 317\u001b[1;33m                 **fit_params_steps[name])\n\u001b[0m\u001b[0;32m    318\u001b[0m             \u001b[1;31m# Replace the transformer of the step with the fitted\u001b[0m\u001b[1;33m\u001b[0m\u001b[1;33m\u001b[0m\u001b[1;33m\u001b[0m\u001b[0m\n\u001b[0;32m    319\u001b[0m             \u001b[1;31m# transformer. This is necessary when loading the transformer\u001b[0m\u001b[1;33m\u001b[0m\u001b[1;33m\u001b[0m\u001b[1;33m\u001b[0m\u001b[0m\n",
      "\u001b[1;32m~\\Anaconda3\\lib\\site-packages\\joblib\\memory.py\u001b[0m in \u001b[0;36m__call__\u001b[1;34m(self, *args, **kwargs)\u001b[0m\n\u001b[0;32m    353\u001b[0m \u001b[1;33m\u001b[0m\u001b[0m\n\u001b[0;32m    354\u001b[0m     \u001b[1;32mdef\u001b[0m \u001b[0m__call__\u001b[0m\u001b[1;33m(\u001b[0m\u001b[0mself\u001b[0m\u001b[1;33m,\u001b[0m \u001b[1;33m*\u001b[0m\u001b[0margs\u001b[0m\u001b[1;33m,\u001b[0m \u001b[1;33m**\u001b[0m\u001b[0mkwargs\u001b[0m\u001b[1;33m)\u001b[0m\u001b[1;33m:\u001b[0m\u001b[1;33m\u001b[0m\u001b[1;33m\u001b[0m\u001b[0m\n\u001b[1;32m--> 355\u001b[1;33m         \u001b[1;32mreturn\u001b[0m \u001b[0mself\u001b[0m\u001b[1;33m.\u001b[0m\u001b[0mfunc\u001b[0m\u001b[1;33m(\u001b[0m\u001b[1;33m*\u001b[0m\u001b[0margs\u001b[0m\u001b[1;33m,\u001b[0m \u001b[1;33m**\u001b[0m\u001b[0mkwargs\u001b[0m\u001b[1;33m)\u001b[0m\u001b[1;33m\u001b[0m\u001b[1;33m\u001b[0m\u001b[0m\n\u001b[0m\u001b[0;32m    356\u001b[0m \u001b[1;33m\u001b[0m\u001b[0m\n\u001b[0;32m    357\u001b[0m     \u001b[1;32mdef\u001b[0m \u001b[0mcall_and_shelve\u001b[0m\u001b[1;33m(\u001b[0m\u001b[0mself\u001b[0m\u001b[1;33m,\u001b[0m \u001b[1;33m*\u001b[0m\u001b[0margs\u001b[0m\u001b[1;33m,\u001b[0m \u001b[1;33m**\u001b[0m\u001b[0mkwargs\u001b[0m\u001b[1;33m)\u001b[0m\u001b[1;33m:\u001b[0m\u001b[1;33m\u001b[0m\u001b[1;33m\u001b[0m\u001b[0m\n",
      "\u001b[1;32m~\\Anaconda3\\lib\\site-packages\\sklearn\\pipeline.py\u001b[0m in \u001b[0;36m_fit_transform_one\u001b[1;34m(transformer, X, y, weight, message_clsname, message, **fit_params)\u001b[0m\n\u001b[0;32m    714\u001b[0m     \u001b[1;32mwith\u001b[0m \u001b[0m_print_elapsed_time\u001b[0m\u001b[1;33m(\u001b[0m\u001b[0mmessage_clsname\u001b[0m\u001b[1;33m,\u001b[0m \u001b[0mmessage\u001b[0m\u001b[1;33m)\u001b[0m\u001b[1;33m:\u001b[0m\u001b[1;33m\u001b[0m\u001b[1;33m\u001b[0m\u001b[0m\n\u001b[0;32m    715\u001b[0m         \u001b[1;32mif\u001b[0m \u001b[0mhasattr\u001b[0m\u001b[1;33m(\u001b[0m\u001b[0mtransformer\u001b[0m\u001b[1;33m,\u001b[0m \u001b[1;34m'fit_transform'\u001b[0m\u001b[1;33m)\u001b[0m\u001b[1;33m:\u001b[0m\u001b[1;33m\u001b[0m\u001b[1;33m\u001b[0m\u001b[0m\n\u001b[1;32m--> 716\u001b[1;33m             \u001b[0mres\u001b[0m \u001b[1;33m=\u001b[0m \u001b[0mtransformer\u001b[0m\u001b[1;33m.\u001b[0m\u001b[0mfit_transform\u001b[0m\u001b[1;33m(\u001b[0m\u001b[0mX\u001b[0m\u001b[1;33m,\u001b[0m \u001b[0my\u001b[0m\u001b[1;33m,\u001b[0m \u001b[1;33m**\u001b[0m\u001b[0mfit_params\u001b[0m\u001b[1;33m)\u001b[0m\u001b[1;33m\u001b[0m\u001b[1;33m\u001b[0m\u001b[0m\n\u001b[0m\u001b[0;32m    717\u001b[0m         \u001b[1;32melse\u001b[0m\u001b[1;33m:\u001b[0m\u001b[1;33m\u001b[0m\u001b[1;33m\u001b[0m\u001b[0m\n\u001b[0;32m    718\u001b[0m             \u001b[0mres\u001b[0m \u001b[1;33m=\u001b[0m \u001b[0mtransformer\u001b[0m\u001b[1;33m.\u001b[0m\u001b[0mfit\u001b[0m\u001b[1;33m(\u001b[0m\u001b[0mX\u001b[0m\u001b[1;33m,\u001b[0m \u001b[0my\u001b[0m\u001b[1;33m,\u001b[0m \u001b[1;33m**\u001b[0m\u001b[0mfit_params\u001b[0m\u001b[1;33m)\u001b[0m\u001b[1;33m.\u001b[0m\u001b[0mtransform\u001b[0m\u001b[1;33m(\u001b[0m\u001b[0mX\u001b[0m\u001b[1;33m)\u001b[0m\u001b[1;33m\u001b[0m\u001b[1;33m\u001b[0m\u001b[0m\n",
      "\u001b[1;32m~\\Anaconda3\\lib\\site-packages\\sklearn\\base.py\u001b[0m in \u001b[0;36mfit_transform\u001b[1;34m(self, X, y, **fit_params)\u001b[0m\n\u001b[0;32m    551\u001b[0m         \u001b[1;32mif\u001b[0m \u001b[0my\u001b[0m \u001b[1;32mis\u001b[0m \u001b[1;32mNone\u001b[0m\u001b[1;33m:\u001b[0m\u001b[1;33m\u001b[0m\u001b[1;33m\u001b[0m\u001b[0m\n\u001b[0;32m    552\u001b[0m             \u001b[1;31m# fit method of arity 1 (unsupervised transformation)\u001b[0m\u001b[1;33m\u001b[0m\u001b[1;33m\u001b[0m\u001b[1;33m\u001b[0m\u001b[0m\n\u001b[1;32m--> 553\u001b[1;33m             \u001b[1;32mreturn\u001b[0m \u001b[0mself\u001b[0m\u001b[1;33m.\u001b[0m\u001b[0mfit\u001b[0m\u001b[1;33m(\u001b[0m\u001b[0mX\u001b[0m\u001b[1;33m,\u001b[0m \u001b[1;33m**\u001b[0m\u001b[0mfit_params\u001b[0m\u001b[1;33m)\u001b[0m\u001b[1;33m.\u001b[0m\u001b[0mtransform\u001b[0m\u001b[1;33m(\u001b[0m\u001b[0mX\u001b[0m\u001b[1;33m)\u001b[0m\u001b[1;33m\u001b[0m\u001b[1;33m\u001b[0m\u001b[0m\n\u001b[0m\u001b[0;32m    554\u001b[0m         \u001b[1;32melse\u001b[0m\u001b[1;33m:\u001b[0m\u001b[1;33m\u001b[0m\u001b[1;33m\u001b[0m\u001b[0m\n\u001b[0;32m    555\u001b[0m             \u001b[1;31m# fit method of arity 2 (supervised transformation)\u001b[0m\u001b[1;33m\u001b[0m\u001b[1;33m\u001b[0m\u001b[1;33m\u001b[0m\u001b[0m\n",
      "\u001b[1;32m~\\Anaconda3\\lib\\site-packages\\sklearn\\impute\\_base.py\u001b[0m in \u001b[0;36mfit\u001b[1;34m(self, X, y)\u001b[0m\n\u001b[0;32m    230\u001b[0m         \u001b[0mself\u001b[0m \u001b[1;33m:\u001b[0m \u001b[0mSimpleImputer\u001b[0m\u001b[1;33m\u001b[0m\u001b[1;33m\u001b[0m\u001b[0m\n\u001b[0;32m    231\u001b[0m         \"\"\"\n\u001b[1;32m--> 232\u001b[1;33m         \u001b[0mX\u001b[0m \u001b[1;33m=\u001b[0m \u001b[0mself\u001b[0m\u001b[1;33m.\u001b[0m\u001b[0m_validate_input\u001b[0m\u001b[1;33m(\u001b[0m\u001b[0mX\u001b[0m\u001b[1;33m)\u001b[0m\u001b[1;33m\u001b[0m\u001b[1;33m\u001b[0m\u001b[0m\n\u001b[0m\u001b[0;32m    233\u001b[0m \u001b[1;33m\u001b[0m\u001b[0m\n\u001b[0;32m    234\u001b[0m         \u001b[1;31m# default fill_value is 0 for numerical input and \"missing_value\"\u001b[0m\u001b[1;33m\u001b[0m\u001b[1;33m\u001b[0m\u001b[1;33m\u001b[0m\u001b[0m\n",
      "\u001b[1;32m~\\Anaconda3\\lib\\site-packages\\sklearn\\impute\\_base.py\u001b[0m in \u001b[0;36m_validate_input\u001b[1;34m(self, X)\u001b[0m\n\u001b[0;32m    202\u001b[0m                 raise ValueError(\"Cannot use {0} strategy with non-numeric \"\n\u001b[0;32m    203\u001b[0m                                  \u001b[1;34m\"data. Received datatype :{1}.\"\u001b[0m\u001b[1;33m\u001b[0m\u001b[1;33m\u001b[0m\u001b[0m\n\u001b[1;32m--> 204\u001b[1;33m                                  \"\".format(self.strategy, X.dtype.kind))\n\u001b[0m\u001b[0;32m    205\u001b[0m             \u001b[1;32melse\u001b[0m\u001b[1;33m:\u001b[0m\u001b[1;33m\u001b[0m\u001b[1;33m\u001b[0m\u001b[0m\n\u001b[0;32m    206\u001b[0m                 \u001b[1;32mraise\u001b[0m \u001b[0mve\u001b[0m\u001b[1;33m\u001b[0m\u001b[1;33m\u001b[0m\u001b[0m\n",
      "\u001b[1;32m~\\Anaconda3\\lib\\site-packages\\pandas\\core\\generic.py\u001b[0m in \u001b[0;36m__getattr__\u001b[1;34m(self, name)\u001b[0m\n\u001b[0;32m   5272\u001b[0m             \u001b[1;32mif\u001b[0m \u001b[0mself\u001b[0m\u001b[1;33m.\u001b[0m\u001b[0m_info_axis\u001b[0m\u001b[1;33m.\u001b[0m\u001b[0m_can_hold_identifiers_and_holds_name\u001b[0m\u001b[1;33m(\u001b[0m\u001b[0mname\u001b[0m\u001b[1;33m)\u001b[0m\u001b[1;33m:\u001b[0m\u001b[1;33m\u001b[0m\u001b[1;33m\u001b[0m\u001b[0m\n\u001b[0;32m   5273\u001b[0m                 \u001b[1;32mreturn\u001b[0m \u001b[0mself\u001b[0m\u001b[1;33m[\u001b[0m\u001b[0mname\u001b[0m\u001b[1;33m]\u001b[0m\u001b[1;33m\u001b[0m\u001b[1;33m\u001b[0m\u001b[0m\n\u001b[1;32m-> 5274\u001b[1;33m             \u001b[1;32mreturn\u001b[0m \u001b[0mobject\u001b[0m\u001b[1;33m.\u001b[0m\u001b[0m__getattribute__\u001b[0m\u001b[1;33m(\u001b[0m\u001b[0mself\u001b[0m\u001b[1;33m,\u001b[0m \u001b[0mname\u001b[0m\u001b[1;33m)\u001b[0m\u001b[1;33m\u001b[0m\u001b[1;33m\u001b[0m\u001b[0m\n\u001b[0m\u001b[0;32m   5275\u001b[0m \u001b[1;33m\u001b[0m\u001b[0m\n\u001b[0;32m   5276\u001b[0m     \u001b[1;32mdef\u001b[0m \u001b[0m__setattr__\u001b[0m\u001b[1;33m(\u001b[0m\u001b[0mself\u001b[0m\u001b[1;33m,\u001b[0m \u001b[0mname\u001b[0m\u001b[1;33m:\u001b[0m \u001b[0mstr\u001b[0m\u001b[1;33m,\u001b[0m \u001b[0mvalue\u001b[0m\u001b[1;33m)\u001b[0m \u001b[1;33m->\u001b[0m \u001b[1;32mNone\u001b[0m\u001b[1;33m:\u001b[0m\u001b[1;33m\u001b[0m\u001b[1;33m\u001b[0m\u001b[0m\n",
      "\u001b[1;31mAttributeError\u001b[0m: 'DataFrame' object has no attribute 'dtype'"
     ]
    }
   ],
   "source": [
    "num_pipeline = Pipeline([\n",
    "        ('imputer', SimpleImputer(strategy=\"mean\")),\n",
    "        ('std_scaler', StandardScaler()),\n",
    "    ])\n",
    "\n",
    "cat_pipeline = Pipeline([\n",
    "        ('imputer', SimpleImputer(strategy=\"most_frequent\")),\n",
    "        ('one_hot', OneHotEncoder()),\n",
    "    ])\n",
    "cat_attribs = ['Batch_Style','Category','Base Malt','SpecialtyMalt1Name', 'SpecialtyMalt2Name', 'SpecialtyMalt3Name','hop1name','hop1type','hop1timing',\n",
    "                   'hop2name','hop2type','hop2timing','hop3name','hop3type','hop3timing','hop4name','hop4type','hop4timing','hop5name','hop5type','hop5timing',\n",
    "                   'YeastStrain', 'Flocculation','Flag']\n",
    "num_attribs = ['og','fg','abv','ibu', 'color_levibonds','mashph','LowTemp','HighTemp','Base Malt Amount','BasePPG','BaseColor','BasePercentage','SpecialtyMalt1Amount',\n",
    "                 'SpecialtyMalt1PPG','SpecialtyMalt1Color','SpecialtyMalt1Percentage','SpecialtyMalt2Amount','SpecialtyMalt2PPG','SpecialtyMalt2Color','SpecialtyMalt2Percentage',\n",
    "                 'SpecialtyMalt3Amount','SpecialtyMalt3PPG','SpecialtyMalt3Color','SpecialtyMalt3Percentage','hop1amount','hop1alpha','hop1time',\n",
    "                 'hop1ibu','hop1percent','hop2amount','hop2alpha','hop2time','hop2ibu','hop2percent','hop3amount','hop3alpha','hop3time',\n",
    "                 'hop3ibu','hop3percent','hop4amount','hop4alpha','hop4time','hop4ibu','hop4percent','hop5amount','hop5alpha','hop5time',\n",
    "                 'hop5ibu','hop5percent','Attenuation','LowTemp','HighTemp']\n",
    "\n",
    "full_pipeline = ColumnTransformer([\n",
    "        (\"num\", num_pipeline, num_attribs),\n",
    "        (\"cat\", cat_pipeline, cat_attribs),\n",
    "    ])\n",
    "\n",
    "beer_prepared = full_pipeline.fit_transform(beer_df)\n"
   ]
  },
  {
   "cell_type": "code",
   "execution_count": 8,
   "metadata": {},
   "outputs": [
    {
     "data": {
      "text/plain": [
       "Unnamed: 72                             96716\n",
       "Adjunct4Num                             96716\n",
       "Adjunct3Num                             96716\n",
       "Adjunct2Num                             96716\n",
       "Adjunct5Num                             96715\n",
       "                                        ...  \n",
       "hop2name_ Styrian dana                      0\n",
       "hop2name_ Styrian Wolf                      0\n",
       "hop2name_ Styrian Savinjsky Goldings        0\n",
       "hop2name_ Styrian Goldings Bobek            0\n",
       "Unnamed: 0                                  0\n",
       "Length: 12072, dtype: int64"
      ]
     },
     "execution_count": 8,
     "metadata": {},
     "output_type": "execute_result"
    }
   ],
   "source": [
    "beer_df.isnull().sum().sort_values(ascending=False)\n"
   ]
  },
  {
   "cell_type": "code",
   "execution_count": null,
   "metadata": {},
   "outputs": [],
   "source": [
    "#k-means\n",
    "#cluster = []\n",
    "#for i in range(1, 11):\n",
    "#    kmeans = KMeans(n_clusters=i, init='k-means++', max_iter=300, n_init=10, random_state=0)\n",
    " #   kmeans.fit(beer_df)\n",
    " #   wcss.append(kmeans.inertia_)\n",
    "#plt.plot(range(1, 11), cluster)\n",
    "#plt.title('Elbow Method')\n",
    "#plt.xlabel('Number of clusters')\n",
    "#plt.ylabel('Clusters')\n",
    "#plt.show()"
   ]
  },
  {
   "cell_type": "code",
   "execution_count": null,
   "metadata": {},
   "outputs": [],
   "source": [
    "#kmeans = KMeans(n_clusters=4)\n",
    "#kmeans.fit(beer_df)"
   ]
  },
  {
   "cell_type": "code",
   "execution_count": null,
   "metadata": {},
   "outputs": [],
   "source": [
    "#normalized kmeans\n",
    "#normalized_vectors = preprocessing.normalize(beer_df)\n",
    "#scores = [KMeans(n_clusters=i+2).fit(normalized_vectors).inertia_ for i in range(10)]\n",
    "#sns.lineplot(np.arange(2, 12), scores)\n",
    "#plt.xlabel('Number of clusters')\n",
    "#plt.ylabel(\"Inertia\")\n",
    "#plt.title(\"Inertia of Cosine k-Means versus number of clusters\")"
   ]
  },
  {
   "cell_type": "code",
   "execution_count": null,
   "metadata": {},
   "outputs": [],
   "source": [
    "#normalized_kmeans = KMeans(n_clusters=4)\n",
    "#normalized_kmeans.fit(normalized_vectors)"
   ]
  }
 ],
 "metadata": {
  "kernelspec": {
   "display_name": "Python 3",
   "language": "python",
   "name": "python3"
  },
  "language_info": {
   "codemirror_mode": {
    "name": "ipython",
    "version": 3
   },
   "file_extension": ".py",
   "mimetype": "text/x-python",
   "name": "python",
   "nbconvert_exporter": "python",
   "pygments_lexer": "ipython3",
   "version": "3.7.3"
  }
 },
 "nbformat": 4,
 "nbformat_minor": 4
}
