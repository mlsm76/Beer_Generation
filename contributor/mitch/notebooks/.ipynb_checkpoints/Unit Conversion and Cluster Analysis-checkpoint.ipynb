{
 "cells": [
  {
   "cell_type": "markdown",
   "metadata": {},
   "source": [
    "## Preprocessing"
   ]
  },
  {
   "cell_type": "code",
   "execution_count": null,
   "metadata": {},
   "outputs": [],
   "source": [
    "#Data handling\n",
    "import pandas as pd\n",
    "import numpy as np\n",
    "from sklearn.preprocessing import MinMaxScaler\n",
    "\n",
    "# Clustering\n",
    "from sklearn.cluster import KMeans, DBSCAN\n",
    "from sklearn import preprocessing\n",
    "from sklearn.metrics import silhouette_score\n",
    "\n",
    "# Dimensionality reduction\n",
    "from sklearn.manifold import TSNE\n",
    "from sklearn.decomposition import PCA\n",
    "\n",
    "# Visualization\n",
    "import seaborn as sns\n",
    "import plotly.express as px\n",
    "import matplotlib.pyplot as plt\n",
    "import mpl_toolkits.mplot3d.axes3d as p3\n",
    "from matplotlib import animation\n",
    "%matplotlib inline\n"
   ]
  },
  {
   "cell_type": "code",
   "execution_count": null,
   "metadata": {},
   "outputs": [],
   "source": [
    "#this section splits the unit from the amount into seperate columns for our adjuncts\n",
    "#it then converts them to real numbers instead of strings for conversion\n",
    "pd.set_option('display.max_columns', 500)\n",
    "beer_df= pd.read_csv('beer_data_cleaned8-23_with_nums.csv')\n",
    "beer_df['Adjunct1Num'],beer_df['Adjunct1Unit'] = beer_df['Adjunct1Amount'].str.split().str\n",
    "beer_df['Adjunct2Num'],beer_df['Adjunct2Unit'] = beer_df['Adjunct2Amount'].str.split().str\n",
    "beer_df['Adjunct3Num'],beer_df['Adjunct3Unit'] = beer_df['Adjunct3Amount'].str.split().str\n",
    "beer_df['Adjunct4Num'],beer_df['Adjunct4Unit'] = beer_df['Adjunct4Amount'].str.split().str\n",
    "beer_df['Adjunct5Num'],beer_df['Adjunct5Unit'] = beer_df['Adjunct5Amount'].str.split().str\n",
    "beer_df.head(40)\n"
   ]
  },
  {
   "cell_type": "code",
   "execution_count": null,
   "metadata": {},
   "outputs": [],
   "source": [
    "beer_df.dtypes #check dytpes to be sure they will work for clustering"
   ]
  },
  {
   "cell_type": "code",
   "execution_count": null,
   "metadata": {},
   "outputs": [],
   "source": [
    "pd.set_option('display.max_rows', 500)\n",
    "objects = ['Adjunct1Num','Adjunct2Num','Adjunct3Num','Adjunct4Num','Adjunct5Num'] #need to convert to numeric here\n",
    "def nums():\n",
    "    for i in objects:\n",
    "        beer_df[i] = beer_df[i].astype(float).round(2)\n",
    "    return beer_df\n",
    "nums()\n"
   ]
  },
  {
   "cell_type": "code",
   "execution_count": null,
   "metadata": {},
   "outputs": [],
   "source": [
    "#this section finds a line to divide the dataset into imperial vs metric\n",
    "beer_df['HighTemp'].hist(bins=50)\n",
    "plt.axvline(47) #assign cutoff and create new variable to distinguish\n",
    "beer_df.loc[beer_df['HighTemp'] <=47, 'Flag'] = 'Metric'\n",
    "beer_df.loc[beer_df['HighTemp'] >47, 'Flag'] = 'Imperial'\n",
    "beer_df['Flag'].value_counts()"
   ]
  },
  {
   "cell_type": "code",
   "execution_count": 6,
   "metadata": {},
   "outputs": [],
   "source": [
    "#imports for the pipeline\n",
    "from sklearn.pipeline import Pipeline\n",
    "from sklearn.preprocessing import StandardScaler\n",
    "from sklearn.impute import SimpleImputer\n",
    "from sklearn.preprocessing import OneHotEncoder\n",
    "from sklearn.compose import ColumnTransformer"
   ]
  },
  {
   "cell_type": "code",
   "execution_count": 7,
   "metadata": {},
   "outputs": [
    {
     "data": {
      "text/plain": [
       "{nan: ' ',\n",
       " 'g': 0.035724,\n",
       " 'each': 0.033814,\n",
       " 'tsp': 0.0,\n",
       " 'ml': 0.0,\n",
       " 'tbsp': 0.0,\n",
       " 'oz': 0.0,\n",
       " 'lb': 0.0,\n",
       " 'L': 0.0,\n",
       " 'g/gal': 0.033814,\n",
       " 'qt': 0.0,\n",
       " 'g/l': 2.2,\n",
       " 'ml/gal': 0.0,\n",
       " 'days': 0.219969,\n",
       " 'hr.': 0.0,\n",
       " 'gal': 0.033814,\n",
       " 'kg': 0.0,\n",
       " 'ml/l': 0.033814,\n",
       " 'mg/l': 0.0,\n",
       " 'min.': 0.0}"
      ]
     },
     "execution_count": 7,
     "metadata": {},
     "output_type": "execute_result"
    }
   ],
   "source": [
    "#this section creates a dictionary of the unique values in the 5 adjunct unit columns to be used for a lookup later\n",
    "adj_cols = ['Adjunct1Unit','Adjunct2Unit','Adjunct3Unit','Adjunct4Unit','Adjunct5Unit']\n",
    "column_values = beer_df[adj_cols].values.ravel()\n",
    "unique_values = pd.unique(column_values)\n",
    "unique_values\n",
    "convert_keys = [' ',.035724, .033814, 0.00,0.00,0.00,0.00,0.00,0.00,.033814,0.00,2.2,0.00,.219969,0.00,.033814,0.00,.033814,0.00,0.00]\n",
    "\n",
    "adjdict = dict(zip(unique_values, convert_keys))\n",
    "adjdict"
   ]
  },
  {
   "cell_type": "code",
   "execution_count": null,
   "metadata": {},
   "outputs": [],
   "source": [
    "kg_cols = ['Base Malt Amount','SpecialtyMalt1Amount','SpecialtyMalt2Amount','SpecialtyMalt1Amount']\n",
    "gram_cols = ['hop1amount','hop2amount','hop3amount','hop4amount','hop5amount']\n",
    "celcius_cols= ['LowTemp','HighTemp']\n",
    "adj_cols = ['Adjunct1Num','Adjunct2Num','Adjunct3Num','Adjunct4Num','Adjunct5Num']\n",
    "lookup_cols = beer_df.iloc[0:,-11:]\n",
    "def lookup(lookup_cols):\n",
    "    \"\"\"Looks up and returns the Adjunct Num column multiplied by the conversion rate\"\"\"\n",
    "    for i in lookup_cols:\n",
    "        if type(i) == object\n",
    "    return ((row[-1].value))"
   ]
  },
  {
   "cell_type": "code",
   "execution_count": null,
   "metadata": {},
   "outputs": [],
   "source": [
    "lookup_cols = beer_df.iloc[0:,-11:]\n",
    "print(lookup_cols[0:1])"
   ]
  },
  {
   "cell_type": "code",
   "execution_count": null,
   "metadata": {},
   "outputs": [],
   "source": [
    "#a class that converts metric to imperial\n",
    "class convert(object):\n",
    "    \"\"\"A class that converts rows in the dataframe from metric to imperial based on their unit labels\"\"\"\n",
    "    def __init__(self,beer_df):\n",
    "        self.beer_df = beer_df\n",
    "    def kgtolb(self,row):\n",
    "        for i in kg_cols:\n",
    "           if (beer_df['Flag'].equals(\"Metric\")):\n",
    "               beer_df[i] = beer_df[i]*2.2\n",
    "    def gram2oz(self,row):\n",
    "        for i in gram_cols:\n",
    "           if (beer_df['Flag'].equals(\"Metric\")):\n",
    "               beer_df[i] = beer_df[i]*.035274\n",
    "    def celc2fah(self,row):\n",
    "        for i in celcius_cols:\n",
    "           if (beer_df['Flag'].equals(\"Metric\")):\n",
    "               beer_df[i] = (beer_df[i]*9/5)+32\n",
    "    def met2imp(self,iterrow):\n",
    "        for i in adj_cols:\n",
    "            lookup(i)"
   ]
  },
  {
   "cell_type": "code",
   "execution_count": null,
   "metadata": {},
   "outputs": [],
   "source": [
    "#intended to call the class on the dataframe and apply the transformations\n",
    "def InitConv(row):\n",
    "    return convert(row)\n",
    "new_df = beer_df.apply(InitConv,axis=1)"
   ]
  },
  {
   "cell_type": "code",
   "execution_count": 8,
   "metadata": {},
   "outputs": [
    {
     "data": {
      "text/plain": [
       "Index(['Batch_size_liters', 'og', 'fg', 'abv', 'ibu', 'color_levibonds',\n",
       "       'mashph', 'Base Malt Amount', 'BasePPG', 'BaseColor', 'BasePercentage',\n",
       "       'SpecialtyMalt1Amount', 'SpecialtyMalt1PPG', 'SpecialtyMalt1Color',\n",
       "       'SpecialtyMalt1Percentage', 'SpecialtyMalt2Amount', 'SpecialtyMalt2PPG',\n",
       "       'SpecialtyMalt2Color', 'SpecialtyMalt2Percentage',\n",
       "       'SpecialtyMalt3Amount', 'SpecialtyMalt3PPG', 'SpecialtyMalt3Color',\n",
       "       'SpecialtyMalt3Percentage', 'hop1amount', 'hop1alpha', 'hop1time',\n",
       "       'hop1ibu', 'hop1percent', 'hop2amount', 'hop2alpha', 'hop2time',\n",
       "       'hop2ibu', 'hop2percent', 'hop3amount', 'hop3alpha', 'hop3time',\n",
       "       'hop3ibu', 'hop3percent', 'hop4amount', 'hop4alpha', 'hop4time',\n",
       "       'hop4ibu', 'hop4percent', 'hop5amount', 'hop5alpha', 'hop5time',\n",
       "       'hop5ibu', 'hop5percent', 'Attenuation', 'LowTemp', 'HighTemp',\n",
       "       'Adjunct1Num', 'Adjunct2Num', 'Adjunct3Num', 'Adjunct4Num',\n",
       "       'Adjunct5Num'],\n",
       "      dtype='object')"
      ]
     },
     "execution_count": 8,
     "metadata": {},
     "output_type": "execute_result"
    }
   ],
   "source": [
    "cat_attribs = beer_df.select_dtypes(include=['object']).columns\n",
    "num_attribs = beer_df.select_dtypes(include=['int64','float64']).columns\n",
    "num_attribs"
   ]
  },
  {
   "cell_type": "code",
   "execution_count": 9,
   "metadata": {},
   "outputs": [],
   "source": [
    "#handles numerical values, imputing the mean and scaling (standard instead of minmax since it handles outliers better)\n",
    "num_pipeline = Pipeline([\n",
    "        ('imputer', SimpleImputer(strategy=\"mean\")),\n",
    "        ('std_scaler', StandardScaler()),\n",
    "    ])\n",
    "\n",
    "#handles categorical values, imputing the most frequent and onehot encoding\n",
    "cat_pipeline = Pipeline([\n",
    "        ('imputer', SimpleImputer(strategy=\"most_frequent\")),\n",
    "        ('one_hot', OneHotEncoder()),\n",
    "    ])\n",
    "#pulls together two pipelines\n",
    "pre_pipeline = ColumnTransformer([\n",
    "        (\"num\", num_pipeline, num_attribs),\n",
    "        (\"cat\", cat_pipeline, cat_attribs),\n",
    "    ])"
   ]
  },
  {
   "cell_type": "code",
   "execution_count": 17,
   "metadata": {},
   "outputs": [],
   "source": [
    "#sampledf = beer_df.sample(weights = beer_prepared.groupby('Category')['Category'].transform('count'))\n",
    "#beer_sample = beer_prepared.sample(frac=.25, replace=False, random_state=33)\n",
    "#beer_sample = beer_prepared.groupby[\"Category\"].sample(frac=0.25, random_state=33)\n",
    "#randomly generated sample of 25% of each beer Category to shrink the size of the dataframe\n",
    "number_of_clusters = beer_df.Category.unique()\n",
    "len(number_of_clusters)\n",
    "from sklearn.cluster import MiniBatchKMeans\n"
   ]
  },
  {
   "cell_type": "code",
   "execution_count": 18,
   "metadata": {},
   "outputs": [],
   "source": [
    "cluster = Pipeline(\n",
    " [\n",
    "     (\n",
    "        \"kmeans\",\n",
    "        MiniBatchKMeans(\n",
    "            n_clusters=167,\n",
    "            batch_size=1000,\n",
    "            compute_labels=True,\n",
    "            max_iter=100,\n",
    "            random_state=33,\n",
    "            max_no_improvement=50,\n",
    "            reassignment_ratio=0.01,\n",
    "            ),\n",
    "      ),\n",
    " ]\n",
    ")\n",
    "full_pipeline = Pipeline(\n",
    "[\n",
    "    (\"preprocessor\", pre_pipeline),\n",
    "    (\"clusterer\",cluster)\n",
    "    \n",
    "])"
   ]
  },
  {
   "cell_type": "code",
   "execution_count": 19,
   "metadata": {},
   "outputs": [
    {
     "data": {
      "text/plain": [
       "Pipeline(memory=None,\n",
       "         steps=[('preprocessor',\n",
       "                 ColumnTransformer(n_jobs=None, remainder='drop',\n",
       "                                   sparse_threshold=0.3,\n",
       "                                   transformer_weights=None,\n",
       "                                   transformers=[('num',\n",
       "                                                  Pipeline(memory=None,\n",
       "                                                           steps=[('imputer',\n",
       "                                                                   SimpleImputer(add_indicator=False,\n",
       "                                                                                 copy=True,\n",
       "                                                                                 fill_value=None,\n",
       "                                                                                 missing_values=nan,\n",
       "                                                                                 strategy='mean',\n",
       "                                                                                 verbose=0)),\n",
       "                                                                  ('std_scaler',\n",
       "                                                                   StandardScaler(copy=True,\n",
       "                                                                                  with_me...\n",
       "       'Adjunct4Unit', 'Adjunct5Unit', 'Flag'],\n",
       "      dtype='object'))],\n",
       "                                   verbose=False)),\n",
       "                ('clusterer',\n",
       "                 Pipeline(memory=None,\n",
       "                          steps=[('kmeans',\n",
       "                                  MiniBatchKMeans(batch_size=1000,\n",
       "                                                  compute_labels=True,\n",
       "                                                  init='k-means++',\n",
       "                                                  init_size=None, max_iter=100,\n",
       "                                                  max_no_improvement=50,\n",
       "                                                  n_clusters=167, n_init=3,\n",
       "                                                  random_state=33,\n",
       "                                                  reassignment_ratio=0.01,\n",
       "                                                  tol=0.0, verbose=0))],\n",
       "                          verbose=False))],\n",
       "         verbose=False)"
      ]
     },
     "execution_count": 19,
     "metadata": {},
     "output_type": "execute_result"
    }
   ],
   "source": [
    "full_pipeline.fit(beer_df)"
   ]
  },
  {
   "cell_type": "code",
   "execution_count": null,
   "metadata": {},
   "outputs": [],
   "source": []
  }
 ],
 "metadata": {
  "kernelspec": {
   "display_name": "Python 3",
   "language": "python",
   "name": "python3"
  },
  "language_info": {
   "codemirror_mode": {
    "name": "ipython",
    "version": 3
   },
   "file_extension": ".py",
   "mimetype": "text/x-python",
   "name": "python",
   "nbconvert_exporter": "python",
   "pygments_lexer": "ipython3",
   "version": "3.7.3"
  }
 },
 "nbformat": 4,
 "nbformat_minor": 4
}
